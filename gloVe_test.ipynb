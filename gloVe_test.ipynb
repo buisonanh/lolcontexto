{
  "cells": [
    {
      "cell_type": "code",
      "execution_count": 216,
      "metadata": {
        "id": "eddFRBbp8c-k"
      },
      "outputs": [],
      "source": [
        "# Import the necessary libraries:\n",
        "import os  # For reading files and managing paths\n",
        "import numpy as np  # For performing mathematical operations\n",
        "from scipy.sparse import lil_matrix  # For handling sparse matrices\n",
        "from sklearn.decomposition import TruncatedSVD  # For Singular Value Decomposition (SVD)\n",
        "from sklearn.metrics.pairwise import cosine_similarity  # For calculating cosine similarity between vectors"
      ]
    },
    {
      "cell_type": "code",
      "execution_count": 217,
      "metadata": {
        "colab": {
          "base_uri": "https://localhost:8080/",
          "height": 245
        },
        "id": "i5LQ1V_f8fCG",
        "outputId": "c4dad22e-c533-4c1e-ab12-6d17eb056a4e"
      },
      "outputs": [],
      "source": [
        "# Define the path to the corpus folder and obtain the list of text files\n",
        "corpus_folder = \"./corpus\"\n",
        "file_names = [f for f in os.listdir(corpus_folder) if f.endswith(\".txt\")]\n",
        "\n",
        "# Initialize an empty list to store the words from the corpus\n",
        "corpus = []\n",
        "\n",
        "# Read each text file in the corpus folder and append the words to the corpus list\n",
        "for file_name in file_names:\n",
        "    file_path = os.path.join(corpus_folder, file_name)\n",
        "    with open(file_path, \"r\", encoding=\"utf-8\") as corpusFile:\n",
        "        for linea in corpusFile:\n",
        "            word_line = linea.strip().split()\n",
        "            corpus.extend(word_line)"
      ]
    },
    {
      "cell_type": "code",
      "execution_count": 218,
      "metadata": {
        "id": "BkFSNky-9c89"
      },
      "outputs": [],
      "source": [
        "# Function to create a co-occurrence matrix from the corpus with a given window size\n",
        "def create_co_occurrence_matrix(corpus, window_size=4):\n",
        "    vocab = set(corpus)  # Create a set of unique words in the corpus\n",
        "    word2id = {word: i for i, word in enumerate(vocab)}  # Create a word-to-index dictionary for the words\n",
        "    id2word = {i: word for i, word in enumerate(vocab)}  # Create an index-to-word dictionary for the words\n",
        "    matrix = lil_matrix((len(vocab), len(vocab)))  # Initialize an empty sparse matrix of size len(vocab) x len(vocab)\n",
        "\n",
        "    # Iterate through the corpus to fill the co-occurrence matrix\n",
        "    for i in range(len(corpus)):\n",
        "        for j in range(max(0, i - window_size), min(len(corpus), i + window_size)):\n",
        "            if i != j:\n",
        "                matrix[word2id[corpus[i]], word2id[corpus[j]]] += 1\n",
        "\n",
        "    return matrix, word2id, id2word"
      ]
    },
    {
      "cell_type": "code",
      "execution_count": 219,
      "metadata": {
        "id": "4a_wAjxa9gC0"
      },
      "outputs": [],
      "source": [
        "# Function to perform SVD on the co-occurrence matrix and reduce the dimensionality\n",
        "def perform_svd(matrix, n_components=300):\n",
        "    n_components = min(n_components, matrix.shape[1] - 1)\n",
        "    svd = TruncatedSVD(n_components=n_components)\n",
        "    return svd.fit_transform(matrix)"
      ]
    },
    {
      "cell_type": "code",
      "execution_count": 220,
      "metadata": {
        "id": "zCxo9rA09gay"
      },
      "outputs": [],
      "source": [
        "# Function to create word embeddings from the corpus using the co-occurrence matrix and SVD\n",
        "def create_word_embeddings(corpus):\n",
        "    matrix, word2id, id2word = create_co_occurrence_matrix(corpus)  # Create the co-occurrence matrix\n",
        "    word_embeddings = perform_svd(matrix)  # Perform SVD on the matrix\n",
        "    return word_embeddings, word2id, id2word"
      ]
    },
    {
      "cell_type": "code",
      "execution_count": 221,
      "metadata": {
        "id": "IhwnpAwG9hq5"
      },
      "outputs": [],
      "source": [
        "# Create the word embeddings from the given corpus\n",
        "embeddings, word2id, id2word = create_word_embeddings(corpus)"
      ]
    },
    {
      "cell_type": "code",
      "execution_count": 222,
      "metadata": {
        "id": "lywcyqZJ9jux"
      },
      "outputs": [],
      "source": [
        "# Function to calculate the cosine similarity between two word vectors\n",
        "def get_word_similarity(embeddings, word2id, word1, word2):\n",
        "    word1_vector = embeddings[word2id[word1]]  # Get the vector representation of word1\n",
        "    word2_vector = embeddings[word2id[word2]]  # Get the vector representation of word2\n",
        "\n",
        "    # Compute the cosine similarity between the two vectors\n",
        "    similarity = cosine_similarity(word1_vector.reshape(1, -1), word2_vector.reshape(1, -1))\n",
        "\n",
        "    return similarity[0][0]"
      ]
    },
    {
      "cell_type": "code",
      "execution_count": 223,
      "metadata": {
        "id": "C8AWmvwP9lAs"
      },
      "outputs": [
        {
          "name": "stdout",
          "output_type": "stream",
          "text": [
            "The distance between the two words is: 0.7419323086163871\n"
          ]
        }
      ],
      "source": [
        "# Example usage: Calculate the similarity between the word embeddings for 'sun' and 'sky'\n",
        "similarity = get_word_similarity(embeddings, word2id, 'darius', 'katarina')\n",
        "print(f\"The distance between the two words is: {similarity}\")"
      ]
    },
    {
      "cell_type": "code",
      "execution_count": 224,
      "metadata": {
        "colab": {
          "base_uri": "https://localhost:8080/",
          "height": 193
        },
        "id": "5h1VmddR2YOR",
        "outputId": "bc551814-5a94-47fb-8502-3f2ac2108289"
      },
      "outputs": [
        {
          "name": "stdout",
          "output_type": "stream",
          "text": [
            "The distance between the two words is: 0.9046464238697318\n"
          ]
        }
      ],
      "source": [
        "similarity = get_word_similarity(embeddings, word2id, 'yasuo', 'yone')\n",
        "print(f\"The distance between the two words is: {similarity}\")"
      ]
    },
    {
      "cell_type": "code",
      "execution_count": 225,
      "metadata": {},
      "outputs": [
        {
          "name": "stdout",
          "output_type": "stream",
          "text": [
            "The distance between the two words is: 0.9941682447746528\n"
          ]
        }
      ],
      "source": [
        "similarity = get_word_similarity(embeddings, word2id, 'darius', 'aatrox')\n",
        "print(f\"The distance between the two words is: {similarity}\")"
      ]
    },
    {
      "cell_type": "code",
      "execution_count": 226,
      "metadata": {},
      "outputs": [
        {
          "name": "stdout",
          "output_type": "stream",
          "text": [
            "['aatrox', 'ahri', 'akali', 'akshan', 'alistar', 'amumu', 'anivia', 'annie', 'aphelios', 'ashe', 'aurelion-sol', 'azir', 'bard', 'bel-veth', 'blitzcrank', 'brand', 'braum', 'briar', 'caitlyn', 'camille', 'cassiopeia', 'cho-gath', 'corki', 'darius', 'diana', 'dr-mundo', 'draven', 'ekko', 'elise', 'evelynn', 'ezreal', 'fiddlesticks', 'fiora', 'fizz', 'galio', 'gangplank', 'garen', 'gnar', 'gragas', 'graves', 'gwen', 'hecarim', 'heimerdinger', 'illaoi', 'irelia', 'ivern', 'janna', 'jarvan-iv', 'jax', 'jayce', 'jhin', 'jinx', 'k-sante', 'kai-sa', 'kalista', 'karma', 'karthus', 'kassadin', 'katarina', 'kayle', 'kayn', 'kennen', 'kha-zix', 'kindred', 'kled', 'kog-maw', 'leblanc', 'lee-sin', 'leona', 'lillia', 'lissandra', 'lucian', 'lulu', 'lux', 'malphite', 'malzahar', 'maokai', 'master-yi', 'milio', 'miss-fortune', 'mordekaiser', 'morgana', 'naafiri', 'nami', 'nasus', 'nautilus', 'neeko', 'nidalee', 'nilah', 'nocturne', 'nunu', 'olaf', 'orianna', 'ornn', 'pantheon', 'poppy', 'pyke', 'qiyana', 'quinn', 'rakan', 'rammus', 'rek-sai', 'rell', 'renata', 'renekton', 'rengar', 'riven', 'rumble', 'ryze', 'samira', 'sejuani', 'senna', 'seraphine', 'sett', 'shaco', 'shen', 'shyvana', 'singed', 'sion', 'sivir', 'skarner', 'sona', 'soraka', 'swain', 'sylas', 'syndra', 'tahm-kench', 'taliyah', 'talon', 'taric', 'teemo', 'thresh', 'tristana', 'trundle', 'tryndamere', 'twisted-fate', 'twitch', 'udyr', 'urgot', 'varus', 'vayne', 'veigar', 'vel-koz', 'vex', 'vi', 'viego', 'viktor', 'vladimir', 'volibear', 'warwick', 'wukong', 'xayah', 'xerath', 'xin-zhao', 'yasuo', 'yone', 'yorick', 'yuumi', 'zac', 'zed', 'zeri', 'ziggs', 'zilean', 'zoe', 'zyra']\n"
          ]
        }
      ],
      "source": [
        "# opening the file in read mode \n",
        "my_file = open(\"champ_list.txt\", \"r\") \n",
        "\n",
        "# reading the file \n",
        "data = my_file.read() \n",
        "\n",
        "# replacing end splitting the text  \n",
        "# when newline ('\\n') is seen. \n",
        "champions = data.split(\", \") \n",
        "print(champions) \n",
        "\n",
        "my_file.close() "
      ]
    },
    {
      "cell_type": "code",
      "execution_count": 249,
      "metadata": {},
      "outputs": [
        {
          "name": "stdout",
          "output_type": "stream",
          "text": [
            "Rank 1: volibear\n",
            "Rank 2: xin-zhao\n",
            "Rank 3: jax\n",
            "Rank 4: aatrox\n",
            "Rank 5: darius\n",
            "Rank 6: jayce\n",
            "Rank 7: gwen\n",
            "Rank 8: skarner\n",
            "Rank 9: olaf\n",
            "Rank 10: shen\n",
            "Rank 11: vel-koz\n",
            "Rank 12: draven\n",
            "Rank 13: azir\n",
            "Rank 14: diana\n",
            "Rank 15: kayle\n",
            "Rank 16: renekton\n",
            "Rank 17: lee-sin\n",
            "Rank 18: camille\n",
            "Rank 19: warwick\n",
            "Rank 20: udyr\n",
            "Rank 21: gnar\n",
            "Rank 22: nilah\n",
            "Rank 23: shyvana\n",
            "Rank 24: urgot\n",
            "Rank 25: gragas\n",
            "Rank 26: nasus\n",
            "Rank 27: fiora\n",
            "Rank 28: bel-veth\n",
            "Rank 29: sivir\n",
            "Rank 30: pantheon\n",
            "Rank 31: gangplank\n",
            "Rank 32: sett\n",
            "Rank 33: trundle\n",
            "Rank 34: tryndamere\n",
            "Rank 35: lillia\n",
            "Rank 36: rek-sai\n",
            "Rank 37: yorick\n",
            "Rank 38: hecarim\n",
            "Rank 39: twitch\n",
            "Rank 40: kayn\n",
            "Rank 41: wukong\n",
            "Rank 42: rumble\n",
            "Rank 43: kha-zix\n",
            "Rank 44: vi\n",
            "Rank 45: janna\n",
            "Rank 46: sion\n",
            "Rank 47: illaoi\n",
            "Rank 48: malzahar\n",
            "Rank 49: mordekaiser\n",
            "Rank 50: riven\n",
            "Rank 51: garen\n",
            "Rank 52: irelia\n",
            "Rank 53: briar\n",
            "Rank 54: dr-mundo\n",
            "Rank 55: kled\n",
            "Rank 56: yasuo\n",
            "Rank 57: leona\n",
            "Rank 58: zilean\n",
            "Rank 59: katarina\n",
            "Rank 60: galio\n",
            "Rank 61: lissandra\n",
            "Rank 62: viktor\n",
            "Rank 63: talon\n",
            "Rank 64: fiddlesticks\n",
            "Rank 65: aurelion-sol\n",
            "Rank 66: sylas\n",
            "Rank 67: miss-fortune\n",
            "Rank 68: pyke\n",
            "Rank 69: ekko\n",
            "Rank 70: cho-gath\n",
            "Rank 71: qiyana\n",
            "Rank 72: ahri\n",
            "Rank 73: naafiri\n",
            "Rank 74: poppy\n",
            "Rank 75: braum\n",
            "Rank 76: nocturne\n",
            "Rank 77: amumu\n",
            "Rank 78: thresh\n",
            "Rank 79: sejuani\n",
            "Rank 80: jhin\n",
            "Rank 81: vladimir\n",
            "Rank 82: brand\n",
            "Rank 83: leblanc\n",
            "Rank 84: jinx\n",
            "Rank 85: viego\n",
            "Rank 86: ezreal\n",
            "Rank 87: lux\n",
            "Rank 88: jarvan-iv\n",
            "Rank 89: xayah\n",
            "Rank 90: evelynn\n",
            "Rank 91: aphelios\n",
            "Rank 92: orianna\n",
            "Rank 93: veigar\n",
            "Rank 94: shaco\n",
            "Rank 95: rengar\n",
            "Rank 96: seraphine\n",
            "Rank 97: cassiopeia\n",
            "Rank 98: karthus\n",
            "Rank 99: fizz\n",
            "Rank 100: zed\n",
            "Rank 101: varus\n",
            "Rank 102: zyra\n",
            "Rank 103: neeko\n",
            "Rank 104: milio\n",
            "Rank 105: graves\n",
            "Rank 106: kalista\n",
            "Rank 107: elise\n",
            "Rank 108: nidalee\n",
            "Rank 109: swain\n",
            "Rank 110: anivia\n",
            "Rank 111: master-yi\n",
            "Rank 112: lulu\n",
            "Rank 113: xerath\n",
            "Rank 114: singed\n",
            "Rank 115: twisted-fate\n",
            "Rank 116: zac\n",
            "Rank 117: ashe\n",
            "Rank 118: tahm-kench\n",
            "Rank 119: vex\n",
            "Rank 120: nunu\n",
            "Rank 121: k-sante\n",
            "Rank 122: alistar\n",
            "Rank 123: ornn\n",
            "Rank 124: blitzcrank\n",
            "Rank 125: rell\n",
            "Rank 126: yone\n",
            "Rank 127: bard\n",
            "Rank 128: soraka\n",
            "Rank 129: kassadin\n",
            "Rank 130: akshan\n",
            "Rank 131: renata\n",
            "Rank 132: sona\n",
            "Rank 133: malphite\n",
            "Rank 134: nami\n",
            "Rank 135: taric\n",
            "Rank 136: annie\n",
            "Rank 137: rammus\n",
            "Rank 138: akali\n",
            "Rank 139: ivern\n",
            "Rank 140: ziggs\n",
            "Rank 141: heimerdinger\n",
            "Rank 142: rakan\n",
            "Rank 143: caitlyn\n",
            "Rank 144: corki\n",
            "Rank 145: senna\n",
            "Rank 146: zoe\n",
            "Rank 147: kai-sa\n",
            "Rank 148: maokai\n",
            "Rank 149: nautilus\n",
            "Rank 150: samira\n",
            "Rank 151: zeri\n",
            "Rank 152: yuumi\n",
            "Rank 153: ryze\n",
            "Rank 154: quinn\n",
            "Rank 155: kog-maw\n",
            "Rank 156: syndra\n",
            "Rank 157: karma\n",
            "Rank 158: kindred\n",
            "Rank 159: tristana\n",
            "Rank 160: vayne\n",
            "Rank 161: taliyah\n",
            "Rank 162: teemo\n",
            "Rank 163: lucian\n",
            "Rank 164: morgana\n",
            "Rank 165: kennen\n"
          ]
        }
      ],
      "source": [
        "# Create a list of tuples with champion names and their similarity scores to 'Aatrox'\n",
        "similarity_scores = [(c, get_word_similarity(embeddings, word2id, \"volibear\", c)) for c in champions]\n",
        "\n",
        "# Sort the list based on similarity scores in descending order\n",
        "similarity_scores.sort(key=lambda x: x[1], reverse=True)\n",
        "\n",
        "# Create a ranking dictionary\n",
        "ranking = {champion: rank + 1 for rank, (champion, _) in enumerate(similarity_scores)}\n",
        "\n",
        "# Print the rankings\n",
        "for champion, rank in ranking.items():\n",
        "    print(f\"Rank {rank}: {champion}\")"
      ]
    }
  ],
  "metadata": {
    "colab": {
      "provenance": []
    },
    "kernelspec": {
      "display_name": "Python 3",
      "name": "python3"
    },
    "language_info": {
      "codemirror_mode": {
        "name": "ipython",
        "version": 3
      },
      "file_extension": ".py",
      "mimetype": "text/x-python",
      "name": "python",
      "nbconvert_exporter": "python",
      "pygments_lexer": "ipython3",
      "version": "3.11.6"
    }
  },
  "nbformat": 4,
  "nbformat_minor": 0
}
