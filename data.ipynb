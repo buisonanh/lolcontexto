{
 "cells": [
  {
   "cell_type": "code",
   "execution_count": 44,
   "metadata": {},
   "outputs": [],
   "source": [
    "import pandas as pd\n",
    "import requests\n",
    "from bs4 import BeautifulSoup\n",
    "import numpy as np"
   ]
  },
  {
   "cell_type": "code",
   "execution_count": 45,
   "metadata": {},
   "outputs": [
    {
     "data": {
      "text/html": [
       "<div>\n",
       "<style scoped>\n",
       "    .dataframe tbody tr th:only-of-type {\n",
       "        vertical-align: middle;\n",
       "    }\n",
       "\n",
       "    .dataframe tbody tr th {\n",
       "        vertical-align: top;\n",
       "    }\n",
       "\n",
       "    .dataframe thead th {\n",
       "        text-align: right;\n",
       "    }\n",
       "</style>\n",
       "<table border=\"1\" class=\"dataframe\">\n",
       "  <thead>\n",
       "    <tr style=\"text-align: right;\">\n",
       "      <th></th>\n",
       "      <th>Names</th>\n",
       "    </tr>\n",
       "  </thead>\n",
       "  <tbody>\n",
       "    <tr>\n",
       "      <th>0</th>\n",
       "      <td>Ahri</td>\n",
       "    </tr>\n",
       "    <tr>\n",
       "      <th>1</th>\n",
       "      <td>Akali</td>\n",
       "    </tr>\n",
       "    <tr>\n",
       "      <th>2</th>\n",
       "      <td>Alistar</td>\n",
       "    </tr>\n",
       "    <tr>\n",
       "      <th>3</th>\n",
       "      <td>Amumu</td>\n",
       "    </tr>\n",
       "    <tr>\n",
       "      <th>4</th>\n",
       "      <td>Anivia</td>\n",
       "    </tr>\n",
       "    <tr>\n",
       "      <th>...</th>\n",
       "      <td>...</td>\n",
       "    </tr>\n",
       "    <tr>\n",
       "      <th>158</th>\n",
       "      <td>Ziggs</td>\n",
       "    </tr>\n",
       "    <tr>\n",
       "      <th>159</th>\n",
       "      <td>Zilean</td>\n",
       "    </tr>\n",
       "    <tr>\n",
       "      <th>160</th>\n",
       "      <td>Zyra</td>\n",
       "    </tr>\n",
       "    <tr>\n",
       "      <th>161</th>\n",
       "      <td>Zeri</td>\n",
       "    </tr>\n",
       "    <tr>\n",
       "      <th>162</th>\n",
       "      <td>Zoe</td>\n",
       "    </tr>\n",
       "  </tbody>\n",
       "</table>\n",
       "<p>163 rows × 1 columns</p>\n",
       "</div>"
      ],
      "text/plain": [
       "       Names\n",
       "0       Ahri\n",
       "1      Akali\n",
       "2    Alistar\n",
       "3      Amumu\n",
       "4     Anivia\n",
       "..       ...\n",
       "158    Ziggs\n",
       "159   Zilean\n",
       "160     Zyra\n",
       "161     Zeri\n",
       "162      Zoe\n",
       "\n",
       "[163 rows x 1 columns]"
      ]
     },
     "execution_count": 45,
     "metadata": {},
     "output_type": "execute_result"
    }
   ],
   "source": [
    "df = pd.read_csv(\"champs.csv\")\n",
    "df"
   ]
  },
  {
   "cell_type": "code",
   "execution_count": 47,
   "metadata": {},
   "outputs": [
    {
     "data": {
      "text/plain": [
       "array(['Ahri', 'Akali', 'Alistar', 'Amumu', 'Anivia', 'Annie', 'Ashe',\n",
       "       'Azir', 'Akshan', 'Aurelion Sol', 'Aphelios', 'Blitzcrank',\n",
       "       'Brand', 'Braum', 'Bard', \"Bel'Veth\", 'Caitlyn', 'Cassiopeia',\n",
       "       \"Cho'Gath\", 'Corki', 'Camille', 'Darius', 'Diana', 'Dr. Mundo',\n",
       "       'Draven', 'Elise', 'Evelynn', 'Ekko', 'Ezreal', 'Fiddlesticks',\n",
       "       'Fiora', 'Fizz', 'Galio', 'Gangplank', 'Garen', 'Gnar', 'Gragas',\n",
       "       'Graves', 'Gwen', 'Hecarim', 'Heimerdinger', 'Irelia', 'Illaoi',\n",
       "       'Ivern', 'Janna', 'Jarvan IV', 'Jax', 'Jayce', 'Jinx', 'Jhin',\n",
       "       'Kalista', 'Karma', 'Karthus', 'Kassadin', 'Katarina', 'Kindred',\n",
       "       'Kayle', 'Kennen', \"Kha'Zix\", \"Kog'Maw\", 'Kled', 'Kayn', \"Kai'sa\",\n",
       "       \"K'Sante\", 'LeBlanc', 'Lee Sin', 'Leona', 'Lissandra', 'Lucian',\n",
       "       'Lulu', 'Lux', 'Lillia', 'Malphite', 'Malzahar', 'Maokai',\n",
       "       'Master Yi', 'Milio', 'Miss Fortune', 'Mordekaiser', 'Morgana',\n",
       "       'Nami', 'Nasus', 'Nautilus', 'Nidalee', 'Nocturne', 'Nunu',\n",
       "       'Nilah', 'Neeko', 'Olaf', 'Orianna', 'Ornn', 'Pantheon', 'Poppy',\n",
       "       'Pyke', 'Quinn', 'Qiyana', 'Rammus', \"Rek'Sai\", 'Renata Glasc',\n",
       "       'Renekton', 'Rengar', 'Riven', 'Rumble', 'Ryze', 'Renata', 'Rell',\n",
       "       'Rakan', 'Sejuani', 'Shaco', 'Shen', 'Shyvana', 'Singed', 'Sion',\n",
       "       'Sivir', 'Skarner', 'Sona', 'Soraka', 'Swain', 'Syndra', 'Senna',\n",
       "       'Sett', 'Samira', 'Seraphine', 'Sylas', 'Talon', 'Taric', 'Teemo',\n",
       "       'Thresh', 'Tristana', 'Trundle', 'Tryndamere', 'Twisted Fate',\n",
       "       'Twitch', 'Tahm kench', 'Taliyah', 'Udyr', 'Urgot', 'Varus',\n",
       "       'Vayne', 'Veigar', \"Vel'Koz\", 'Vi', 'Viktor', 'Vladimir',\n",
       "       'Volibear', 'Vex', 'Viego', 'Warwick', 'Wukong', 'Xerath',\n",
       "       'Xin Zhao', 'Xayah', 'Yasuo', 'Yorick', 'Yuumi', 'Yone', 'Zac',\n",
       "       'Zed', 'Ziggs', 'Zilean', 'Zyra', 'Zeri', 'Zoe'], dtype=object)"
      ]
     },
     "execution_count": 47,
     "metadata": {},
     "output_type": "execute_result"
    }
   ],
   "source": [
    "champs = df[\"Names\"].values\n",
    "champs"
   ]
  },
  {
   "cell_type": "code",
   "execution_count": 48,
   "metadata": {},
   "outputs": [],
   "source": [
    "url = \"https://www.leagueoflegends.com/en-us/champions/akali/\"\n",
    "response = requests.get(url)\n"
   ]
  },
  {
   "cell_type": "code",
   "execution_count": 50,
   "metadata": {},
   "outputs": [],
   "source": [
    "soup = BeautifulSoup(response.text, 'html.parser')\n"
   ]
  },
  {
   "cell_type": "code",
   "execution_count": 57,
   "metadata": {},
   "outputs": [
    {
     "name": "stdout",
     "output_type": "stream",
     "text": [
      "<p data-testid=\"overview:description\">Abandoning the Kinkou Order and her title of the Fist of Shadow, Akali now strikes alone, ready to be the deadly weapon her people need. Though she holds onto all she learned from her master Shen, she has pledged to defend Ionia from its enemies, one...<!-- --> <button data-testid=\"overview:seemorebutton\">See More</button></p>\n"
     ]
    }
   ],
   "source": [
    "# Find the paragraph element with the specified class and data-testid\n",
    "paragraph = soup.find('p', {'data-testid':\"overview:description\"})\n",
    "\n",
    "print(paragraph)"
   ]
  },
  {
   "cell_type": "code",
   "execution_count": 59,
   "metadata": {},
   "outputs": [
    {
     "name": "stdout",
     "output_type": "stream",
     "text": [
      "Abandoning the Kinkou Order and her title of the Fist of Shadow, Akali now strikes alone, ready to be the deadly weapon her people need. Though she holds onto all she learned from her master Shen, she has pledged to defend Ionia from its enemies, one...\n"
     ]
    }
   ],
   "source": [
    "# Extract the full text excluding \"See More\" button\n",
    "if paragraph:\n",
    "    description_parts = []\n",
    "    for element in paragraph.contents:\n",
    "        if element.name != \"button\" or element.get(\"data-testid\") != \"overview:seemorebutton\":\n",
    "            description_parts.append(str(element))\n",
    "    \n",
    "    full_description = ' '.join(description_parts)\n",
    "    print(full_description.strip())\n",
    "else:\n",
    "    print(\"Paragraph not found.\")"
   ]
  },
  {
   "cell_type": "code",
   "execution_count": 60,
   "metadata": {},
   "outputs": [
    {
     "ename": "NoSuchDriverException",
     "evalue": "Message: Unable to obtain driver for chrome using Selenium Manager.; For documentation on this error, please visit: https://www.selenium.dev/documentation/webdriver/troubleshooting/errors/driver_location\n",
     "output_type": "error",
     "traceback": [
      "\u001b[1;31m---------------------------------------------------------------------------\u001b[0m",
      "\u001b[1;31mWebDriverException\u001b[0m                        Traceback (most recent call last)",
      "File \u001b[1;32mc:\\Users\\PC\\AppData\\Local\\Programs\\Python\\Python311\\Lib\\site-packages\\selenium\\webdriver\\common\\driver_finder.py:38\u001b[0m, in \u001b[0;36mDriverFinder.get_path\u001b[1;34m(service, options)\u001b[0m\n\u001b[0;32m     37\u001b[0m \u001b[39mtry\u001b[39;00m:\n\u001b[1;32m---> 38\u001b[0m     path \u001b[39m=\u001b[39m SeleniumManager()\u001b[39m.\u001b[39;49mdriver_location(options) \u001b[39mif\u001b[39;00m path \u001b[39mis\u001b[39;00m \u001b[39mNone\u001b[39;00m \u001b[39melse\u001b[39;00m path\n\u001b[0;32m     39\u001b[0m \u001b[39mexcept\u001b[39;00m \u001b[39mException\u001b[39;00m \u001b[39mas\u001b[39;00m err:\n",
      "File \u001b[1;32mc:\\Users\\PC\\AppData\\Local\\Programs\\Python\\Python311\\Lib\\site-packages\\selenium\\webdriver\\common\\selenium_manager.py:98\u001b[0m, in \u001b[0;36mSeleniumManager.driver_location\u001b[1;34m(self, options)\u001b[0m\n\u001b[0;32m     96\u001b[0m     args\u001b[39m.\u001b[39mappend(value)\n\u001b[1;32m---> 98\u001b[0m output \u001b[39m=\u001b[39m \u001b[39mself\u001b[39;49m\u001b[39m.\u001b[39;49mrun(args)\n\u001b[0;32m    100\u001b[0m browser_path \u001b[39m=\u001b[39m output[\u001b[39m\"\u001b[39m\u001b[39mbrowser_path\u001b[39m\u001b[39m\"\u001b[39m]\n",
      "File \u001b[1;32mc:\\Users\\PC\\AppData\\Local\\Programs\\Python\\Python311\\Lib\\site-packages\\selenium\\webdriver\\common\\selenium_manager.py:144\u001b[0m, in \u001b[0;36mSeleniumManager.run\u001b[1;34m(args)\u001b[0m\n\u001b[0;32m    143\u001b[0m \u001b[39mif\u001b[39;00m completed_proc\u001b[39m.\u001b[39mreturncode:\n\u001b[1;32m--> 144\u001b[0m     \u001b[39mraise\u001b[39;00m WebDriverException(\u001b[39mf\u001b[39m\u001b[39m\"\u001b[39m\u001b[39mUnsuccessful command executed: \u001b[39m\u001b[39m{\u001b[39;00mcommand\u001b[39m}\u001b[39;00m\u001b[39m.\u001b[39m\u001b[39m\\n\u001b[39;00m\u001b[39m{\u001b[39;00mresult\u001b[39m}\u001b[39;00m\u001b[39m{\u001b[39;00mstderr\u001b[39m}\u001b[39;00m\u001b[39m\"\u001b[39m)\n\u001b[0;32m    145\u001b[0m \u001b[39mreturn\u001b[39;00m result\n",
      "\u001b[1;31mWebDriverException\u001b[0m: Message: Unsuccessful command executed: c:\\Users\\PC\\AppData\\Local\\Programs\\Python\\Python311\\Lib\\site-packages\\selenium\\webdriver\\common\\windows\\selenium-manager.exe --browser chrome --output json.\n{'code': 65, 'message': 'error sending request for url (https://edgedl.me.gvt1.com/edgedl/chrome/chrome-for-testing/118.0.5993.70/win64/chromedriver-win64.zip): error trying to connect: An existing connection was forcibly closed by the remote host. (os error 10054)', 'driver_path': '', 'browser_path': ''}\n",
      "\nThe above exception was the direct cause of the following exception:\n",
      "\u001b[1;31mNoSuchDriverException\u001b[0m                     Traceback (most recent call last)",
      "\u001b[1;32mc:\\Users\\PC\\Coding\\lolcontexto\\data.ipynb Cell 8\u001b[0m line \u001b[0;36m6\n\u001b[0;32m      <a href='vscode-notebook-cell:/c%3A/Users/PC/Coding/lolcontexto/data.ipynb#X12sZmlsZQ%3D%3D?line=2'>3</a>\u001b[0m \u001b[39mfrom\u001b[39;00m \u001b[39mselenium\u001b[39;00m\u001b[39m.\u001b[39;00m\u001b[39mwebdriver\u001b[39;00m\u001b[39m.\u001b[39;00m\u001b[39mcommon\u001b[39;00m\u001b[39m.\u001b[39;00m\u001b[39mkeys\u001b[39;00m \u001b[39mimport\u001b[39;00m Keys\n\u001b[0;32m      <a href='vscode-notebook-cell:/c%3A/Users/PC/Coding/lolcontexto/data.ipynb#X12sZmlsZQ%3D%3D?line=4'>5</a>\u001b[0m \u001b[39m# Initialize a WebDriver (make sure you have the corresponding web driver installed)\u001b[39;00m\n\u001b[1;32m----> <a href='vscode-notebook-cell:/c%3A/Users/PC/Coding/lolcontexto/data.ipynb#X12sZmlsZQ%3D%3D?line=5'>6</a>\u001b[0m driver \u001b[39m=\u001b[39m webdriver\u001b[39m.\u001b[39;49mChrome()\n\u001b[0;32m      <a href='vscode-notebook-cell:/c%3A/Users/PC/Coding/lolcontexto/data.ipynb#X12sZmlsZQ%3D%3D?line=7'>8</a>\u001b[0m \u001b[39m# Load the webpage\u001b[39;00m\n\u001b[0;32m      <a href='vscode-notebook-cell:/c%3A/Users/PC/Coding/lolcontexto/data.ipynb#X12sZmlsZQ%3D%3D?line=8'>9</a>\u001b[0m url \u001b[39m=\u001b[39m \u001b[39m\"\u001b[39m\u001b[39mhttps://www.leagueoflegends.com/en-us/champions/akali/\u001b[39m\u001b[39m\"\u001b[39m\n",
      "File \u001b[1;32mc:\\Users\\PC\\AppData\\Local\\Programs\\Python\\Python311\\Lib\\site-packages\\selenium\\webdriver\\chrome\\webdriver.py:45\u001b[0m, in \u001b[0;36mWebDriver.__init__\u001b[1;34m(self, options, service, keep_alive)\u001b[0m\n\u001b[0;32m     42\u001b[0m service \u001b[39m=\u001b[39m service \u001b[39mif\u001b[39;00m service \u001b[39melse\u001b[39;00m Service()\n\u001b[0;32m     43\u001b[0m options \u001b[39m=\u001b[39m options \u001b[39mif\u001b[39;00m options \u001b[39melse\u001b[39;00m Options()\n\u001b[1;32m---> 45\u001b[0m \u001b[39msuper\u001b[39;49m()\u001b[39m.\u001b[39;49m\u001b[39m__init__\u001b[39;49m(\n\u001b[0;32m     46\u001b[0m     DesiredCapabilities\u001b[39m.\u001b[39;49mCHROME[\u001b[39m\"\u001b[39;49m\u001b[39mbrowserName\u001b[39;49m\u001b[39m\"\u001b[39;49m],\n\u001b[0;32m     47\u001b[0m     \u001b[39m\"\u001b[39;49m\u001b[39mgoog\u001b[39;49m\u001b[39m\"\u001b[39;49m,\n\u001b[0;32m     48\u001b[0m     options,\n\u001b[0;32m     49\u001b[0m     service,\n\u001b[0;32m     50\u001b[0m     keep_alive,\n\u001b[0;32m     51\u001b[0m )\n",
      "File \u001b[1;32mc:\\Users\\PC\\AppData\\Local\\Programs\\Python\\Python311\\Lib\\site-packages\\selenium\\webdriver\\chromium\\webdriver.py:51\u001b[0m, in \u001b[0;36mChromiumDriver.__init__\u001b[1;34m(self, browser_name, vendor_prefix, options, service, keep_alive)\u001b[0m\n\u001b[0;32m     47\u001b[0m \u001b[39mself\u001b[39m\u001b[39m.\u001b[39mvendor_prefix \u001b[39m=\u001b[39m vendor_prefix\n\u001b[0;32m     49\u001b[0m \u001b[39mself\u001b[39m\u001b[39m.\u001b[39mservice \u001b[39m=\u001b[39m service\n\u001b[1;32m---> 51\u001b[0m \u001b[39mself\u001b[39m\u001b[39m.\u001b[39mservice\u001b[39m.\u001b[39mpath \u001b[39m=\u001b[39m DriverFinder\u001b[39m.\u001b[39;49mget_path(\u001b[39mself\u001b[39;49m\u001b[39m.\u001b[39;49mservice, options)\n\u001b[0;32m     53\u001b[0m \u001b[39mself\u001b[39m\u001b[39m.\u001b[39mservice\u001b[39m.\u001b[39mstart()\n\u001b[0;32m     55\u001b[0m \u001b[39mtry\u001b[39;00m:\n",
      "File \u001b[1;32mc:\\Users\\PC\\AppData\\Local\\Programs\\Python\\Python311\\Lib\\site-packages\\selenium\\webdriver\\common\\driver_finder.py:41\u001b[0m, in \u001b[0;36mDriverFinder.get_path\u001b[1;34m(service, options)\u001b[0m\n\u001b[0;32m     39\u001b[0m \u001b[39mexcept\u001b[39;00m \u001b[39mException\u001b[39;00m \u001b[39mas\u001b[39;00m err:\n\u001b[0;32m     40\u001b[0m     msg \u001b[39m=\u001b[39m \u001b[39mf\u001b[39m\u001b[39m\"\u001b[39m\u001b[39mUnable to obtain driver for \u001b[39m\u001b[39m{\u001b[39;00moptions\u001b[39m.\u001b[39mcapabilities[\u001b[39m'\u001b[39m\u001b[39mbrowserName\u001b[39m\u001b[39m'\u001b[39m]\u001b[39m}\u001b[39;00m\u001b[39m using Selenium Manager.\u001b[39m\u001b[39m\"\u001b[39m\n\u001b[1;32m---> 41\u001b[0m     \u001b[39mraise\u001b[39;00m NoSuchDriverException(msg) \u001b[39mfrom\u001b[39;00m \u001b[39merr\u001b[39;00m\n\u001b[0;32m     43\u001b[0m \u001b[39mif\u001b[39;00m path \u001b[39mis\u001b[39;00m \u001b[39mNone\u001b[39;00m \u001b[39mor\u001b[39;00m \u001b[39mnot\u001b[39;00m Path(path)\u001b[39m.\u001b[39mis_file():\n\u001b[0;32m     44\u001b[0m     \u001b[39mraise\u001b[39;00m NoSuchDriverException(\u001b[39mf\u001b[39m\u001b[39m\"\u001b[39m\u001b[39mUnable to locate or obtain driver for \u001b[39m\u001b[39m{\u001b[39;00moptions\u001b[39m.\u001b[39mcapabilities[\u001b[39m'\u001b[39m\u001b[39mbrowserName\u001b[39m\u001b[39m'\u001b[39m]\u001b[39m}\u001b[39;00m\u001b[39m\"\u001b[39m)\n",
      "\u001b[1;31mNoSuchDriverException\u001b[0m: Message: Unable to obtain driver for chrome using Selenium Manager.; For documentation on this error, please visit: https://www.selenium.dev/documentation/webdriver/troubleshooting/errors/driver_location\n"
     ]
    }
   ],
   "source": [
    "from selenium import webdriver\n",
    "from selenium.webdriver.common.by import By\n",
    "from selenium.webdriver.common.keys import Keys\n",
    "\n",
    "# Initialize a WebDriver (make sure you have the corresponding web driver installed)\n",
    "driver = webdriver.Chrome()\n",
    "\n",
    "# Load the webpage\n",
    "url = \"https://www.leagueoflegends.com/en-us/champions/akali/\"\n",
    "driver.get(url)\n",
    "\n",
    "# Find and click the \"See More\" button\n",
    "see_more_button = driver.find_element(By.XPATH, \"//button[@data-testid='overview:seemorebutton']\")\n",
    "see_more_button.click()\n",
    "\n",
    "# Wait for the expanded content to load (you may need to adjust the wait time)\n",
    "import time\n",
    "time.sleep(2)\n",
    "\n",
    "# Extract the full description\n",
    "full_description = driver.find_element(By.XPATH, \"//p[@data-testid='overview:description']\").text\n",
    "print(full_description)\n",
    "\n",
    "# Close the browser\n",
    "driver.quit()\n"
   ]
  }
 ],
 "metadata": {
  "kernelspec": {
   "display_name": "Python 3",
   "language": "python",
   "name": "python3"
  },
  "language_info": {
   "codemirror_mode": {
    "name": "ipython",
    "version": 3
   },
   "file_extension": ".py",
   "mimetype": "text/x-python",
   "name": "python",
   "nbconvert_exporter": "python",
   "pygments_lexer": "ipython3",
   "version": "3.11.4"
  }
 },
 "nbformat": 4,
 "nbformat_minor": 2
}
