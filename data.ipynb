{
 "cells": [
  {
   "cell_type": "code",
   "execution_count": 84,
   "metadata": {},
   "outputs": [],
   "source": [
    "import pandas as pd\n",
    "import requests\n",
    "from bs4 import BeautifulSoup\n",
    "import numpy as np"
   ]
  },
  {
   "cell_type": "code",
   "execution_count": 85,
   "metadata": {},
   "outputs": [
    {
     "data": {
      "text/html": [
       "<div>\n",
       "<style scoped>\n",
       "    .dataframe tbody tr th:only-of-type {\n",
       "        vertical-align: middle;\n",
       "    }\n",
       "\n",
       "    .dataframe tbody tr th {\n",
       "        vertical-align: top;\n",
       "    }\n",
       "\n",
       "    .dataframe thead th {\n",
       "        text-align: right;\n",
       "    }\n",
       "</style>\n",
       "<table border=\"1\" class=\"dataframe\">\n",
       "  <thead>\n",
       "    <tr style=\"text-align: right;\">\n",
       "      <th></th>\n",
       "      <th>Names</th>\n",
       "    </tr>\n",
       "  </thead>\n",
       "  <tbody>\n",
       "    <tr>\n",
       "      <th>0</th>\n",
       "      <td>Ahri</td>\n",
       "    </tr>\n",
       "    <tr>\n",
       "      <th>1</th>\n",
       "      <td>Akali</td>\n",
       "    </tr>\n",
       "    <tr>\n",
       "      <th>2</th>\n",
       "      <td>Alistar</td>\n",
       "    </tr>\n",
       "    <tr>\n",
       "      <th>3</th>\n",
       "      <td>Amumu</td>\n",
       "    </tr>\n",
       "    <tr>\n",
       "      <th>4</th>\n",
       "      <td>Anivia</td>\n",
       "    </tr>\n",
       "    <tr>\n",
       "      <th>...</th>\n",
       "      <td>...</td>\n",
       "    </tr>\n",
       "    <tr>\n",
       "      <th>158</th>\n",
       "      <td>Ziggs</td>\n",
       "    </tr>\n",
       "    <tr>\n",
       "      <th>159</th>\n",
       "      <td>Zilean</td>\n",
       "    </tr>\n",
       "    <tr>\n",
       "      <th>160</th>\n",
       "      <td>Zyra</td>\n",
       "    </tr>\n",
       "    <tr>\n",
       "      <th>161</th>\n",
       "      <td>Zeri</td>\n",
       "    </tr>\n",
       "    <tr>\n",
       "      <th>162</th>\n",
       "      <td>Zoe</td>\n",
       "    </tr>\n",
       "  </tbody>\n",
       "</table>\n",
       "<p>163 rows × 1 columns</p>\n",
       "</div>"
      ],
      "text/plain": [
       "       Names\n",
       "0       Ahri\n",
       "1      Akali\n",
       "2    Alistar\n",
       "3      Amumu\n",
       "4     Anivia\n",
       "..       ...\n",
       "158    Ziggs\n",
       "159   Zilean\n",
       "160     Zyra\n",
       "161     Zeri\n",
       "162      Zoe\n",
       "\n",
       "[163 rows x 1 columns]"
      ]
     },
     "execution_count": 85,
     "metadata": {},
     "output_type": "execute_result"
    }
   ],
   "source": [
    "df = pd.read_csv(\"champs.csv\")\n",
    "df"
   ]
  },
  {
   "cell_type": "code",
   "execution_count": 86,
   "metadata": {},
   "outputs": [
    {
     "data": {
      "text/plain": [
       "array(['Ahri', 'Akali', 'Alistar', 'Amumu', 'Anivia', 'Annie', 'Ashe',\n",
       "       'Azir', 'Akshan', 'Aurelion Sol', 'Aphelios', 'Blitzcrank',\n",
       "       'Brand', 'Braum', 'Bard', \"Bel'Veth\", 'Caitlyn', 'Cassiopeia',\n",
       "       \"Cho'Gath\", 'Corki', 'Camille', 'Darius', 'Diana', 'Dr. Mundo',\n",
       "       'Draven', 'Elise', 'Evelynn', 'Ekko', 'Ezreal', 'Fiddlesticks',\n",
       "       'Fiora', 'Fizz', 'Galio', 'Gangplank', 'Garen', 'Gnar', 'Gragas',\n",
       "       'Graves', 'Gwen', 'Hecarim', 'Heimerdinger', 'Irelia', 'Illaoi',\n",
       "       'Ivern', 'Janna', 'Jarvan IV', 'Jax', 'Jayce', 'Jinx', 'Jhin',\n",
       "       'Kalista', 'Karma', 'Karthus', 'Kassadin', 'Katarina', 'Kindred',\n",
       "       'Kayle', 'Kennen', \"Kha'Zix\", \"Kog'Maw\", 'Kled', 'Kayn', \"Kai'sa\",\n",
       "       \"K'Sante\", 'LeBlanc', 'Lee Sin', 'Leona', 'Lissandra', 'Lucian',\n",
       "       'Lulu', 'Lux', 'Lillia', 'Malphite', 'Malzahar', 'Maokai',\n",
       "       'Master Yi', 'Milio', 'Miss Fortune', 'Mordekaiser', 'Morgana',\n",
       "       'Nami', 'Nasus', 'Nautilus', 'Nidalee', 'Nocturne', 'Nunu',\n",
       "       'Nilah', 'Neeko', 'Olaf', 'Orianna', 'Ornn', 'Pantheon', 'Poppy',\n",
       "       'Pyke', 'Quinn', 'Qiyana', 'Rammus', \"Rek'Sai\", 'Renata Glasc',\n",
       "       'Renekton', 'Rengar', 'Riven', 'Rumble', 'Ryze', 'Renata', 'Rell',\n",
       "       'Rakan', 'Sejuani', 'Shaco', 'Shen', 'Shyvana', 'Singed', 'Sion',\n",
       "       'Sivir', 'Skarner', 'Sona', 'Soraka', 'Swain', 'Syndra', 'Senna',\n",
       "       'Sett', 'Samira', 'Seraphine', 'Sylas', 'Talon', 'Taric', 'Teemo',\n",
       "       'Thresh', 'Tristana', 'Trundle', 'Tryndamere', 'Twisted Fate',\n",
       "       'Twitch', 'Tahm kench', 'Taliyah', 'Udyr', 'Urgot', 'Varus',\n",
       "       'Vayne', 'Veigar', \"Vel'Koz\", 'Vi', 'Viktor', 'Vladimir',\n",
       "       'Volibear', 'Vex', 'Viego', 'Warwick', 'Wukong', 'Xerath',\n",
       "       'Xin Zhao', 'Xayah', 'Yasuo', 'Yorick', 'Yuumi', 'Yone', 'Zac',\n",
       "       'Zed', 'Ziggs', 'Zilean', 'Zyra', 'Zeri', 'Zoe'], dtype=object)"
      ]
     },
     "execution_count": 86,
     "metadata": {},
     "output_type": "execute_result"
    }
   ],
   "source": [
    "champs = df[\"Names\"].values\n",
    "champs"
   ]
  },
  {
   "cell_type": "code",
   "execution_count": 87,
   "metadata": {},
   "outputs": [],
   "source": [
    "url = \"https://www.leagueoflegends.com/en-us/champions/akali/\"\n",
    "response = requests.get(url)\n"
   ]
  },
  {
   "cell_type": "code",
   "execution_count": 88,
   "metadata": {},
   "outputs": [],
   "source": [
    "soup = BeautifulSoup(response.text, 'html.parser')\n"
   ]
  },
  {
   "cell_type": "code",
   "execution_count": 89,
   "metadata": {},
   "outputs": [
    {
     "name": "stdout",
     "output_type": "stream",
     "text": [
      "<p data-testid=\"overview:description\">Abandoning the Kinkou Order and her title of the Fist of Shadow, Akali now strikes alone, ready to be the deadly weapon her people need. Though she holds onto all she learned from her master Shen, she has pledged to defend Ionia from its enemies, one...<!-- --> <button data-testid=\"overview:seemorebutton\">See More</button></p>\n"
     ]
    }
   ],
   "source": [
    "# Find the paragraph element with the specified class and data-testid\n",
    "paragraph = soup.find('p', {'data-testid':\"overview:description\"})\n",
    "\n",
    "print(paragraph)"
   ]
  },
  {
   "cell_type": "code",
   "execution_count": 90,
   "metadata": {},
   "outputs": [
    {
     "name": "stdout",
     "output_type": "stream",
     "text": [
      "Abandoning the Kinkou Order and her title of the Fist of Shadow, Akali now strikes alone, ready to be the deadly weapon her people need. Though she holds onto all she learned from her master Shen, she has pledged to defend Ionia from its enemies, one...\n"
     ]
    }
   ],
   "source": [
    "# Extract the full text excluding \"See More\" button\n",
    "if paragraph:\n",
    "    description_parts = []\n",
    "    for element in paragraph.contents:\n",
    "        if element.name != \"button\" or element.get(\"data-testid\") != \"overview:seemorebutton\":\n",
    "            description_parts.append(str(element))\n",
    "    \n",
    "    full_description = ' '.join(description_parts)\n",
    "    print(full_description.strip())\n",
    "else:\n",
    "    print(\"Paragraph not found.\")"
   ]
  },
  {
   "cell_type": "code",
   "execution_count": 103,
   "metadata": {},
   "outputs": [
    {
     "name": "stdout",
     "output_type": "stream",
     "text": [
      "Abandoning the Kinkou Order and her title of the Fist of Shadow, Akali now strikes alone, ready to be the deadly weapon her people need. Though she holds onto all she learned from her master Shen, she has pledged to defend Ionia from its enemies, one kill at a time. Akali may strike in silence, but her message will be heard loud and clear: fear the assassin with no master.\n"
     ]
    }
   ],
   "source": [
    "from selenium import webdriver\n",
    "from selenium.webdriver.common.by import By\n",
    "from selenium.webdriver.common.keys import Keys\n",
    "\n",
    "# Initialize a WebDriver (make sure you have the corresponding web driver installed)\n",
    "driver = webdriver.Chrome()\n",
    "\n",
    "# Load the webpage\n",
    "url = \"https://www.leagueoflegends.com/en-us/champions/akali/\"\n",
    "driver.get(url)\n",
    "\n",
    "# Find and click the \"Save\" button (if it's necessary)\n",
    "save_button = driver.find_element(By.XPATH, '//button[@class=\" osano-cm-save osano-cm-buttons__button osano-cm-button osano-cm-button--type_save \"]')\n",
    "save_button.click()\n",
    "\n",
    "# Find and click the \"See More\" button\n",
    "wait = WebDriverWait(driver, 10)  # Adjust the timeout if necessary\n",
    "see_more_button = driver.find_element(By.XPATH, '//button[@data-testid=\"overview:seemorebutton\"]')\n",
    "see_more_button.click()\n",
    "\n",
    "# Wait for the expanded content to load (you may need to adjust the wait time)\n",
    "import time\n",
    "time.sleep(2)\n",
    "\n",
    "# Extract the full description\n",
    "full_description = driver.find_element(By.XPATH, '//p[@data-testid=\"overview:description\"]').text\n",
    "print(full_description)\n",
    "\n",
    "\n",
    "# Close the browser\n",
    "driver.quit()\n"
   ]
  }
 ],
 "metadata": {
  "kernelspec": {
   "display_name": "Python 3",
   "language": "python",
   "name": "python3"
  },
  "language_info": {
   "codemirror_mode": {
    "name": "ipython",
    "version": 3
   },
   "file_extension": ".py",
   "mimetype": "text/x-python",
   "name": "python",
   "nbconvert_exporter": "python",
   "pygments_lexer": "ipython3",
   "version": "3.11.6"
  }
 },
 "nbformat": 4,
 "nbformat_minor": 2
}
